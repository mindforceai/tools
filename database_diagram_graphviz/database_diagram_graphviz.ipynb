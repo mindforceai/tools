{
 "cells": [
  {
   "cell_type": "markdown",
   "source": [
    "# Generate database diagram with graphviz\r\n",
    "Database diagrams ease understanding relations in database and thus help data users to work more efficient but only if they are well organized which is difficult to achieve automatically without someone manually editing the layout.   \r\n",
    "\r\n",
    "It is usefull to have the ability to generate database schema ad-hoc without need to use some modelling tools.\r\n",
    "\r\n",
    "This simple demo shows how to do it just using python and graphviz with: \r\n",
    "- custom node html based style for tables \r\n",
    "- on hover descriptions \r\n",
    "- on click linking\r\n",
    "\r\n",
    "Check the demo result here: [my_database.gv.svg](my_database.gv.svg)\r\n",
    "\r\n",
    "You can also check how it looks with more tables here: [https://storage.googleapis.com/data_catalog_diagram_extera_presale/extera_nexus.gv.svg](https://storage.googleapis.com/data_catalog_diagram_extera_presale/extera_nexus.gv.svg)  \r\n",
    "\r\n",
    "as a part of [MindForce Extera](https://www.mindforce.ai/extera) Data Catalog: [https://datastudio.google.com/u/0/reporting/1D5pVDr_OCVxwL2YpC3WPwBMoepvRa2HI/page/6nVl](https://datastudio.google.com/u/0/reporting/1D5pVDr_OCVxwL2YpC3WPwBMoepvRa2HI/page/6nVl) "
   ],
   "metadata": {}
  },
  {
   "cell_type": "markdown",
   "source": [
    "## Set Up\r\n",
    "\r\n",
    "1) download and install graphviz: [https://graphviz.org/download/source/](https://graphviz.org/download/source/)\r\n",
    "2) install python packages"
   ],
   "metadata": {}
  },
  {
   "cell_type": "code",
   "execution_count": null,
   "source": [
    "!pip install pandas \r\n",
    "!pip install graphviz\r\n",
    "!pip install openpyxl #to read xlsx"
   ],
   "outputs": [],
   "metadata": {}
  },
  {
   "cell_type": "code",
   "execution_count": null,
   "source": [
    "import pandas as pd\r\n",
    "from graphviz import Digraph\r\n",
    "import re"
   ],
   "outputs": [],
   "metadata": {}
  },
  {
   "cell_type": "markdown",
   "source": [
    "## Get metadata\r\n",
    "There are 3 metadata entities used for schema generation\r\n",
    "1. Tables - description\r\n",
    "2. Table columns + description, data type, primary key, column order\r\n",
    "3. Table relations - related tables, key columns\r\n",
    "\r\n",
    "In this example metadata are retrieved from sample excel file in this folder."
   ],
   "metadata": {}
  },
  {
   "cell_type": "code",
   "execution_count": null,
   "source": [
    "tables = pd.read_excel('database_metadata.xlsx',sheet_name='tables')\r\n",
    "columns = pd.read_excel('database_metadata.xlsx',sheet_name='columns')\r\n",
    "relations = pd.read_excel('database_metadata.xlsx',sheet_name='relations')"
   ],
   "outputs": [],
   "metadata": {}
  },
  {
   "cell_type": "markdown",
   "source": [
    "## Define graph node look and prepare data model and settings for graphviz"
   ],
   "metadata": {}
  },
  {
   "cell_type": "code",
   "execution_count": null,
   "source": [
    "#html tamplate for graph nodes\r\n",
    "def gen_html_table_node(project_id,dataset_id,table_id):\r\n",
    "    table_cols = columns[(columns['project_id']==project_id)&(columns['dataset_id']==dataset_id)&(columns['table_id']==table_id)]\r\n",
    "    if re.search('^c_',table_cols['table_id'].iloc[0]) is not None:\r\n",
    "        #codetable background color\r\n",
    "        table_color = '#FFFF99'\r\n",
    "    else:\r\n",
    "        #table background color\r\n",
    "        table_color = '#99FFCC'\r\n",
    "    cols_string = ''\r\n",
    "    for _, row in table_cols.iterrows():\r\n",
    "        port = row['table_id']+row['column_name']\r\n",
    "        column_name = row['column_name']\r\n",
    "        column_data_type = row['data_type']\r\n",
    "        table_description = row['table_description_cz']\r\n",
    "        # link to datacatalog table detail, in this demo just mindforce web \r\n",
    "        table_href = 'https://en.mindforce.ai/'\r\n",
    "        column_string = '''<TR>\r\n",
    "        <TD PORT=\"{port}\" ALIGN=\"LEFT\">{column_name}</TD>\r\n",
    "        <TD ALIGN=\"CENTER\"><i>{column_data_type}</i></TD>\r\n",
    "        </TR>'''.format(port=port,column_name=column_name, column_data_type=column_data_type)\r\n",
    "        cols_string = cols_string+column_string\r\n",
    "    table_begin_string = '''<\r\n",
    "    <TABLE HREF=\"{}\" TITLE = \"{}\" BGCOLOR=\"{}\" BORDER=\"0\" CELLBORDER=\"1\" CELLSPACING=\"1\" CELLPADDING=\"1\">\r\n",
    "    <TR><TD PORT=\"{}\" COLSPAN= \"2\"><b>{}</b></TD></TR>'''.format(table_href,table_description,table_color,row['table_id'],row['table_id'])\r\n",
    "    table_end_string = '''</TABLE>>'''\r\n",
    "    table_node = table_begin_string+cols_string+table_end_string\r\n",
    "    return table_node \r\n",
    "\r\n",
    "# prepare data for graph rendering       \r\n",
    "def generate_ER_dataset_diagram(project_id, dataset_id):\r\n",
    "    # graph initialization a graph settings\r\n",
    "    dataset_graph = Digraph(dataset_id, format='svg', node_attr={'shape': 'plaintext'}, graph_attr={'splines':'true','overlap':'false'}, engine = 'fdp')\r\n",
    "    dataset_tables = tables[(tables['dataset_id']==dataset_id)&(tables['project_id']==project_id)]\r\n",
    "    # adding nodes\r\n",
    "    for _, row in dataset_tables.iterrows():\r\n",
    "        table_id = row['table_id']\r\n",
    "        node_html = gen_html_table_node(project_id,dataset_id,table_id)\r\n",
    "        dataset_graph.node(table_id,node_html,style='rounded')\r\n",
    "    # adding edges\r\n",
    "    dataset_relations = relations[(relations['dataset_id']==dataset_id)&(relations['project_id']==project_id)]\r\n",
    "    for _, row in dataset_relations.iterrows():\r\n",
    "        edge_name = row['column_name']\r\n",
    "        parent_string = '{}'.format(row['table_id'])\r\n",
    "        child_string = '{}'.format(row['ref_table_id'])\r\n",
    "        dataset_graph.edge(parent_string, child_string,edge_name)\r\n",
    "    return dataset_graph"
   ],
   "outputs": [],
   "metadata": {}
  },
  {
   "cell_type": "markdown",
   "source": [
    "## Render diagram"
   ],
   "metadata": {}
  },
  {
   "cell_type": "code",
   "execution_count": null,
   "source": [
    "PROJECT_ID = 'my_project'\r\n",
    "DATASET_ID = 'my_database'\r\n",
    "# render graph with graphviz\r\n",
    "diag = generate_ER_dataset_diagram(PROJECT_ID,DATASET_ID)\r\n",
    "diag.render()"
   ],
   "outputs": [],
   "metadata": {}
  }
 ],
 "metadata": {
  "orig_nbformat": 4,
  "language_info": {
   "name": "python",
   "version": "3.7.3",
   "mimetype": "text/x-python",
   "codemirror_mode": {
    "name": "ipython",
    "version": 3
   },
   "pygments_lexer": "ipython3",
   "nbconvert_exporter": "python",
   "file_extension": ".py"
  },
  "kernelspec": {
   "name": "python3",
   "display_name": "Python 3.7.3 64-bit (system)"
  },
  "interpreter": {
   "hash": "c9a3b777b53617bc0aa5a5b561389a6d5cc655068104cbbc34870c3d5ee146be"
  }
 },
 "nbformat": 4,
 "nbformat_minor": 2
}