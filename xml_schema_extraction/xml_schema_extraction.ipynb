{
 "cells": [
  {
   "cell_type": "markdown",
   "source": [
    "# XML schema extraction\r\n",
    " If you want to load complex xml data to database but xsd schema is not available then you need to profile representative sample of xml files to get all the possible xpaths in these documents to be able to design data pipe and target model.  \r\n",
    " \r\n",
    "Python code below address this issue, it gives you:\r\n",
    "1. xpaths for all tags (+ info about parent tag for easier data pipe development)\r\n",
    "2. info if attributes occur on a tag\r\n",
    "3. document name with the tag/attribute variant to be used for tests\r\n",
    "\r\n",
    "Check the result for sample xml documents in xml_files_to_profile here: "
   ],
   "metadata": {}
  },
  {
   "cell_type": "markdown",
   "source": [
    "## Set Up"
   ],
   "metadata": {}
  },
  {
   "cell_type": "code",
   "execution_count": 79,
   "source": [
    "import os\r\n",
    "from lxml import etree as ElementTree\r\n",
    "import pandas as pd"
   ],
   "outputs": [],
   "metadata": {}
  },
  {
   "cell_type": "markdown",
   "source": [
    "## Extract paths from xml documents\r\n",
    "1. get the file list to process\r\n",
    "2. get paths, attributes with namespace prefix for each document and add to pandas dataframe"
   ],
   "metadata": {}
  },
  {
   "cell_type": "code",
   "execution_count": 84,
   "source": [
    "from lxml import etree as ElementTree\r\n",
    "import pandas as pd\r\n",
    "\r\n",
    "# replace namespace in node path with its prefix \r\n",
    "def replace_ns_w_prefix(file_namespaces, path_w_ns):\r\n",
    "    for key, name in file_namespaces.items():\r\n",
    "        path_w_ns = path_w_ns.replace(name, key)\r\n",
    "    path_w_ns_prefix = path_w_ns.replace('{','').replace('}',':')\r\n",
    "    return path_w_ns_prefix\r\n",
    "\r\n",
    "# find all xml nodes and its paths\r\n",
    "def etree_iter_path(node, tag=None, path='.'):\r\n",
    "    if tag == \"*\":\r\n",
    "        tag = None\r\n",
    "    if tag is None or node.tag == tag:\r\n",
    "        yield node, path\r\n",
    "    for child in node:\r\n",
    "        _child_path = '{path}/{child_tag}'.format(path=path, child_tag=child.tag)\r\n",
    "        for child, child_path in etree_iter_path(child, tag, path=_child_path):\r\n",
    "            yield child, child_path\r\n",
    "\r\n",
    "# get paths, attributes for a xml file\r\n",
    "def xml_node_paths(file_path):\r\n",
    "    xmldoc = ElementTree.parse(file_path)\r\n",
    "    file_namespaces = dict([node for _, node in ElementTree.iterparse(file_path,events=['start-ns'])])                                  \r\n",
    "    node_list = []\r\n",
    "    for elem, path in etree_iter_path(xmldoc.getroot()):\r\n",
    "        elem_parent = ''\r\n",
    "        if elem.getparent() is not None:\r\n",
    "            elem_parent = replace_ns_w_prefix(file_namespaces,elem.getparent().tag)\r\n",
    "        node_attributes = elem.attrib\r\n",
    "        attr_keys_string = \",\".join(node_attributes.keys())\r\n",
    "        node_list.append([replace_ns_w_prefix(file_namespaces,elem.tag), elem_parent,attr_keys_string,replace_ns_w_prefix(file_namespaces,path), file_path])\r\n",
    "    file_data = pd.DataFrame(node_list, columns = ['tag','parent_tag','attributes','xpath','filename'])\r\n",
    "    file_data_no_dupl = file_data.drop_duplicates()\r\n",
    "    return file_data_no_dupl"
   ],
   "outputs": [],
   "metadata": {}
  },
  {
   "cell_type": "markdown",
   "source": [
    "## Run extraction from multiple xml files and export result to xlsx for convenience"
   ],
   "metadata": {}
  },
  {
   "cell_type": "code",
   "execution_count": 86,
   "source": [
    "files_to_profile = os.listdir('./xml_files_to_profile')\r\n",
    "all_files_data = pd.DataFrame(columns = ['tag','parent_tag','attributes','xpath','filename'])\r\n",
    "\r\n",
    "for file in files_to_profile:\r\n",
    "    file_path = os.path.join('./xml_files_to_profile/',file)\r\n",
    "    result = xml_node_paths(file_path)\r\n",
    "    all_files_data = pd.concat([all_files_data, result])    \r\n",
    "    \r\n",
    "# get rid of multiple examples of the same path from multiple files\r\n",
    "all_files_data_examles = all_files_data.groupby(['xpath','attributes','tag','parent_tag'])['filename'].max()\r\n",
    "\r\n",
    "# write result to xlsx\r\n",
    "writer = pd.ExcelWriter('xml_schema_extraction.xlsx')\r\n",
    "all_files_data_examles.to_excel(writer, sheet_name='Sheet1')\r\n",
    "writer.save()\r\n"
   ],
   "outputs": [],
   "metadata": {}
  }
 ],
 "metadata": {
  "orig_nbformat": 4,
  "language_info": {
   "name": "python",
   "version": "3.7.1",
   "mimetype": "text/x-python",
   "codemirror_mode": {
    "name": "ipython",
    "version": 3
   },
   "pygments_lexer": "ipython3",
   "nbconvert_exporter": "python",
   "file_extension": ".py"
  },
  "kernelspec": {
   "name": "python3",
   "display_name": "Python 3.7.1 64-bit (conda)"
  },
  "interpreter": {
   "hash": "81d5468609b248fe1eff68e98d883da85af01ed60f1320a317940a134a127bea"
  }
 },
 "nbformat": 4,
 "nbformat_minor": 2
}